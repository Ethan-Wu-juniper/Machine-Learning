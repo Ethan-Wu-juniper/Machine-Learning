{
 "cells": [
  {
   "cell_type": "markdown",
   "metadata": {},
   "source": [
    "# HW 3 K-means Clustering"
   ]
  },
  {
   "cell_type": "markdown",
   "metadata": {},
   "source": [
    "\n",
    "\n",
    "---\n",
    "\n",
    "#### Name: 吳原博\n",
    "#### Student ID: 0816004\n",
    "\n",
    "---\n",
    "\n",
    "## 助教好 😀\n",
    "> 程式碼的解釋會放在每個程式碼區塊上方的 markdown 裡，謝謝!"
   ]
  },
  {
   "cell_type": "code",
   "execution_count": 1,
   "metadata": {},
   "outputs": [],
   "source": [
    "import numpy as np\n",
    "import pandas as pd\n",
    "import matplotlib.pyplot as plt\n",
    "import math\n",
    "from sklearn.decomposition import PCA\n",
    "import random as rd\n",
    "from sklearn.metrics import *\n",
    "%matplotlib inline"
   ]
  },
  {
   "cell_type": "markdown",
   "metadata": {},
   "source": [
    "# Variables"
   ]
  },
  {
   "cell_type": "code",
   "execution_count": 2,
   "metadata": {},
   "outputs": [],
   "source": [
    "wheet_col = ['area','perimeter','compactness','kernel_length','kernel_width','asymmetry','length_of_kernel_groove','label']"
   ]
  },
  {
   "cell_type": "markdown",
   "metadata": {},
   "source": [
    "# Data processing\n",
    "我發現原本的資料並不整齊，為了讓排版更美觀有些地方有連續兩個 tab，因此我先處理所有連續的 tab 才用 read_csv 讀取資料"
   ]
  },
  {
   "cell_type": "code",
   "execution_count": 3,
   "metadata": {},
   "outputs": [],
   "source": [
    "# 修改原資料，使其變得整齊而可以用 read_csv 讀取\n",
    "i = 0\n",
    "out = \"\"\n",
    "with open('seeds_dataset.txt','r') as file:\n",
    "    for f in file:\n",
    "        i = i + 1\n",
    "        f = f.replace(\"\\t\\t\",\"\\t\")\n",
    "        out += f\n",
    "with open(\"wheet_data_revised.txt\",'w') as file:\n",
    "    file.write(out)\n",
    "df = pd.read_csv('wheet_data_revised.txt',names=wheet_col,sep='\\t')\n",
    "data_y = np.array(df['label'])\n",
    "data = df.drop('label',axis=1)\n",
    "data = np.array(data)"
   ]
  },
  {
   "cell_type": "markdown",
   "metadata": {},
   "source": [
    "# K-means\n",
    "我透過三個函式完成 k means clustering :\n",
    "1. **cluster**    \n",
    "    根據輸入的中心點，將每筆資料分配到對應的 group 裡面  \n",
    "2. **loc_center**  \n",
    "    根據分好群的資料點計算出每個 group 的新中心點  \n",
    "3. **init**  \n",
    "    隨機升成三組中心點  \n",
    "\n",
    "接下來就根據 k means 的演算法完成，我把迴圈停止的條件設定為 : 當 group 的成員不再異動則停止迴圈"
   ]
  },
  {
   "cell_type": "code",
   "execution_count": 4,
   "metadata": {},
   "outputs": [],
   "source": [
    "# 將每個點分到群組裡\n",
    "def cluster(center,data):\n",
    "    group = [[] for i in range(3)]\n",
    "    for i in range(data.shape[0]):\n",
    "        g = 0\n",
    "        min_dis = float('Infinity')\n",
    "        for j in range(3):\n",
    "            distance = np.linalg.norm(center[j]-data[i])\n",
    "            if distance < min_dis:\n",
    "                min_dis = distance\n",
    "                g = j\n",
    "        group[g].append(i)\n",
    "    return group\n",
    "\n",
    "# 計算每個群組的中心點\n",
    "def loc_center(group,data):\n",
    "    center = [[] for i in range(3)]\n",
    "    for i in range(3):\n",
    "        for j in range(data.shape[1]):\n",
    "            center[i].append(np.mean(data[group[i]].transpose()[j]))\n",
    "    return center\n",
    "\n",
    "# 隨機產生三組起始中心點\n",
    "def init(data):\n",
    "    init_center = []\n",
    "    for i in range(data.shape[1]):\n",
    "        rnd = []\n",
    "        for j in range(3):\n",
    "            rnum = np.random.uniform(data[:,i].min(),data[:,i].max())\n",
    "            rnd.append(rnum)\n",
    "        init_center.append(rnd)\n",
    "    init_center = np.array(init_center).transpose(1,0)\n",
    "    return init_center\n",
    "\n",
    "init_center = init(data)\n",
    "group = cluster(init_center,data)\n",
    "center = loc_center(group,data)\n",
    "group_prt = []\n",
    "while group != group_prt:\n",
    "    group_prt = group\n",
    "    group = cluster(center,data)\n",
    "    center = loc_center(group,data)\n",
    "# print(group)\n",
    "group_label = []\n",
    "for g in group:\n",
    "    lbl = 0\n",
    "    max_i = 0\n",
    "    for i in range(3):\n",
    "        temp = data_y[g].tolist().count(i+1)\n",
    "        # print(temp)\n",
    "        if temp > max_i:\n",
    "            max_i = temp\n",
    "            lbl = i+1\n",
    "    group_label.append(lbl)\n",
    "# print(group_label)\n",
    "result = [0] * 210\n",
    "for i in range(3):\n",
    "    for g in group[i]:\n",
    "        result[g] = group_label[i]\n",
    "# print(result.count(1))\n",
    "# print(result.count(2))\n",
    "# print(result.count(3))"
   ]
  },
  {
   "cell_type": "markdown",
   "metadata": {},
   "source": [
    "# Results\n",
    "結果如下，我將資料整理好以 dataframe 表格輸出"
   ]
  },
  {
   "cell_type": "code",
   "execution_count": 5,
   "metadata": {},
   "outputs": [
    {
     "name": "stdout",
     "output_type": "stream",
     "text": [
      "confusion matrix\n"
     ]
    },
    {
     "data": {
      "text/html": [
       "<div>\n",
       "<style scoped>\n",
       "    .dataframe tbody tr th:only-of-type {\n",
       "        vertical-align: middle;\n",
       "    }\n",
       "\n",
       "    .dataframe tbody tr th {\n",
       "        vertical-align: top;\n",
       "    }\n",
       "\n",
       "    .dataframe thead th {\n",
       "        text-align: right;\n",
       "    }\n",
       "</style>\n",
       "<table border=\"1\" class=\"dataframe\">\n",
       "  <thead>\n",
       "    <tr style=\"text-align: right;\">\n",
       "      <th></th>\n",
       "      <th>predicted 1</th>\n",
       "      <th>predicted 2</th>\n",
       "      <th>predicted 3</th>\n",
       "    </tr>\n",
       "  </thead>\n",
       "  <tbody>\n",
       "    <tr>\n",
       "      <th>1</th>\n",
       "      <td>57</td>\n",
       "      <td>1</td>\n",
       "      <td>12</td>\n",
       "    </tr>\n",
       "    <tr>\n",
       "      <th>2</th>\n",
       "      <td>10</td>\n",
       "      <td>60</td>\n",
       "      <td>0</td>\n",
       "    </tr>\n",
       "    <tr>\n",
       "      <th>3</th>\n",
       "      <td>0</td>\n",
       "      <td>0</td>\n",
       "      <td>70</td>\n",
       "    </tr>\n",
       "  </tbody>\n",
       "</table>\n",
       "</div>"
      ],
      "text/plain": [
       "   predicted 1  predicted 2  predicted 3\n",
       "1           57            1           12\n",
       "2           10           60            0\n",
       "3            0            0           70"
      ]
     },
     "metadata": {},
     "output_type": "display_data"
    },
    {
     "name": "stdout",
     "output_type": "stream",
     "text": [
      "accuracy, recall and precision score\n"
     ]
    },
    {
     "data": {
      "text/html": [
       "<div>\n",
       "<style scoped>\n",
       "    .dataframe tbody tr th:only-of-type {\n",
       "        vertical-align: middle;\n",
       "    }\n",
       "\n",
       "    .dataframe tbody tr th {\n",
       "        vertical-align: top;\n",
       "    }\n",
       "\n",
       "    .dataframe thead th {\n",
       "        text-align: right;\n",
       "    }\n",
       "</style>\n",
       "<table border=\"1\" class=\"dataframe\">\n",
       "  <thead>\n",
       "    <tr style=\"text-align: right;\">\n",
       "      <th></th>\n",
       "      <th>accuracy score</th>\n",
       "    </tr>\n",
       "  </thead>\n",
       "  <tbody>\n",
       "    <tr>\n",
       "      <th></th>\n",
       "      <td>0.890476</td>\n",
       "    </tr>\n",
       "  </tbody>\n",
       "</table>\n",
       "</div>"
      ],
      "text/plain": [
       "  accuracy score\n",
       "        0.890476"
      ]
     },
     "metadata": {},
     "output_type": "display_data"
    },
    {
     "data": {
      "text/html": [
       "<div>\n",
       "<style scoped>\n",
       "    .dataframe tbody tr th:only-of-type {\n",
       "        vertical-align: middle;\n",
       "    }\n",
       "\n",
       "    .dataframe tbody tr th {\n",
       "        vertical-align: top;\n",
       "    }\n",
       "\n",
       "    .dataframe thead th {\n",
       "        text-align: right;\n",
       "    }\n",
       "</style>\n",
       "<table border=\"1\" class=\"dataframe\">\n",
       "  <thead>\n",
       "    <tr style=\"text-align: right;\">\n",
       "      <th></th>\n",
       "      <th>pos label = 1</th>\n",
       "      <th>pos label = 2</th>\n",
       "      <th>pos label = 3</th>\n",
       "    </tr>\n",
       "  </thead>\n",
       "  <tbody>\n",
       "    <tr>\n",
       "      <th>recall score</th>\n",
       "      <td>0.814286</td>\n",
       "      <td>0.857143</td>\n",
       "      <td>1.000000</td>\n",
       "    </tr>\n",
       "    <tr>\n",
       "      <th>prec score</th>\n",
       "      <td>0.850746</td>\n",
       "      <td>0.983607</td>\n",
       "      <td>0.853659</td>\n",
       "    </tr>\n",
       "  </tbody>\n",
       "</table>\n",
       "</div>"
      ],
      "text/plain": [
       "              pos label = 1  pos label = 2  pos label = 3\n",
       "recall score       0.814286       0.857143       1.000000\n",
       "prec score         0.850746       0.983607       0.853659"
      ]
     },
     "metadata": {},
     "output_type": "display_data"
    }
   ],
   "source": [
    "matrix = confusion_matrix(data_y,result,labels=[1,2,3])\n",
    "acc = accuracy_score(data_y,result)\n",
    "recall = recall_score(data_y,result,average=None)\n",
    "prec = precision_score(data_y,result,average=None)\n",
    "form = pd.DataFrame(matrix,columns=['predicted 1','predicted 2','predicted 3'],index=['1','2','3'])\n",
    "print('confusion matrix')\n",
    "display(form)\n",
    "df = [acc]\n",
    "form = pd.DataFrame(df,columns=['accuracy score'],index=[''])\n",
    "print('accuracy, recall and precision score')\n",
    "display(form)\n",
    "df = [recall,prec]\n",
    "form = pd.DataFrame(df,columns=['pos label = 1','pos label = 2','pos label = 3'],index=['recall score','prec score'])\n",
    "display(form)"
   ]
  },
  {
   "cell_type": "markdown",
   "metadata": {},
   "source": [
    "# Question\n",
    "我將資料以 pca 濃縮成兩個 attribute，重新以 k means 計算後將結果畫成散布圖，如下  \n",
    "其中，那些顏色稍有不同的星星代表各個群裡面的中心點"
   ]
  },
  {
   "cell_type": "code",
   "execution_count": 6,
   "metadata": {},
   "outputs": [
    {
     "data": {
      "image/png": "[encoded data removed]",
      "text/plain": [
       "<Figure size 1440x1440 with 1 Axes>"
      ]
     },
     "metadata": {
      "needs_background": "light"
     },
     "output_type": "display_data"
    }
   ],
   "source": [
    "pca = PCA(n_components=2)\n",
    "data_pca = pca.fit_transform(data)\n",
    "\n",
    "init_center = init(data_pca)\n",
    "group = cluster(init_center,data_pca)\n",
    "center = loc_center(group,data_pca)\n",
    "group_prt = []\n",
    "while group != group_prt:\n",
    "    group_prt = group\n",
    "    group = cluster(center,data_pca)\n",
    "    center = loc_center(group,data_pca)\n",
    "# print(group)\n",
    "# print(center)\n",
    "group_label = []\n",
    "for g in group:\n",
    "    lbl = 0\n",
    "    max_i = 0\n",
    "    for i in range(3):\n",
    "        temp = data_y[g].tolist().count(i+1)\n",
    "        # print(temp)\n",
    "        if temp > max_i:\n",
    "            max_i = temp\n",
    "            lbl = i+1\n",
    "    group_label.append(lbl)\n",
    "# print(group_label)\n",
    "result_pca = [0] * 210\n",
    "for i in range(3):\n",
    "    for g in group[i]:\n",
    "        result_pca[g] = group_label[i]\n",
    "\n",
    "Color = ('#FF0000', '#00FF00', '#0000FF')\n",
    "Color_light = ('#FFA000', '#00FFAA', '#A000FF')\n",
    "plt.figure(figsize=(20,20))\n",
    "plt.title('scatter plot (the center of each group are marked as star sign)',fontsize=20)\n",
    "plt.scatter(data_pca[group[0]][:,0],data_pca[group[0]][:,1],label='1',color=Color[0])\n",
    "plt.scatter(data_pca[group[1]][:,0],data_pca[group[1]][:,1],label='2',color=Color[1])\n",
    "plt.scatter(data_pca[group[2]][:,0],data_pca[group[2]][:,1],label='3',color=Color[2])\n",
    "plt.scatter(center[0][0],center[0][1],color=Color_light[0],marker='*',s=400)\n",
    "plt.scatter(center[1][0],center[1][1],color=Color_light[1],marker='*',s=400)\n",
    "plt.scatter(center[2][0],center[2][1],color=Color_light[2],marker='*',s=400)\n",
    "plt.legend()\n",
    "plt.show()"
   ]
  },
  {
   "cell_type": "markdown",
   "metadata": {},
   "source": [
    "# Compare and Conclusion\n",
    "我在 k means 裡面遇到比較大的困難應該是一開始處理不整齊的資料那邊  \n",
    "因為資料看上去有被整理過，但是讀取時卻又一直出現 NaN，讓我搞了好一陣子才發現問題在哪裡"
   ]
  }
 ],
 "metadata": {
  "interpreter": {
   "hash": "7987c57931f2365761dc2a5f85e647decf73af6edff0c78918b92bfe7c5512ba"
  },
  "kernelspec": {
   "display_name": "Python 3.8.0 32-bit",
   "name": "python3"
  },
  "language_info": {
   "codemirror_mode": {
    "name": "ipython",
    "version": 3
   },
   "file_extension": ".py",
   "mimetype": "text/x-python",
   "name": "python",
   "nbconvert_exporter": "python",
   "pygments_lexer": "ipython3",
   "version": "3.8.0"
  }
 },
 "nbformat": 4,
 "nbformat_minor": 4
}
